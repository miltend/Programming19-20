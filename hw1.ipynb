{
 "cells": [
  {
   "cell_type": "code",
   "execution_count": 1,
   "metadata": {},
   "outputs": [],
   "source": [
    "import requests\n",
    "import re\n",
    "import time\n",
    "from bs4 import BeautifulSoup\n",
    "import datetime\n",
    "import collections\n",
    "from typing import List, Dict, Union, Any, Generator\n",
    "import csv\n",
    "import json\n",
    "import jsonlines\n",
    "import random\n",
    "import pytz"
   ]
  },
  {
   "cell_type": "code",
   "execution_count": 2,
   "metadata": {},
   "outputs": [],
   "source": [
    "session = requests.Session()\n",
    "session.headers.update({\n",
    "    'User-Agent': 'Mozilla/5.0 (Macintosh; Intel Mac OS X 10_14_6) AppleWebKit/605.1.15 (KHTML, like Gecko) Version/13.0.3 Safari/605.1.15',\n",
    "    'Cookie': 'cycada=bPpdsL6OmVuA/vHwOkwEZ6b5m1yT1mYEBUWGwH8FGDg=; _ym_d=1576847554; _ym_uid=1570718328767985713; _ym_visorc_22663942=b; _ym_visorc_52332406=b; mda_exp_enabled=1; noflash=true; sso_status=sso.passport.yandex.ru:synchronized_no_beacon; tc=1; user_country=ru; yandex_gid=213; yandex_plus_metrika_cookie=true; PHPSESSID=jsb8usnpa8ovgsjtjp9gg10kk3; mobile=no; _csrf_csrf_token=uDZ_fZZywgrIXC2KLpV2V6G_K71VsmISBCwNr0heC4U; _ym_isad=2; _ym_wasSynced=%7B%22time%22%3A1576844395295%2C%22params%22%3A%7B%22eu%22%3A0%7D%2C%22bkParams%22%3A%7B%7D%7D; mda=0; desktop_session_key=139f10f99471995a1b48eecf0b98f5888c9219d00a10771efaba78cabc3dbaaeecd4f9dfd069f86f3ebf8f6b3a2bfb97bd95a5a3387a5bf37859968e4d756ffafaf00965312aa4f2cc93c262df127542eb204f0518e55383ed78b02c0dce7e36; desktop_session_key.sig=dP943b2vDA3HinOlIUvCc8FOVBs; user-geo-country-id=2; user-geo-region-id=213; lfiltr=all; i=q5DjteMdDtdbTPiy8XS1deq7n8vXuonLoQeLibMR86Zz/u+f0CVJZDEJHTndsyoTjK9LBCz3DwQ8WWr5hbXDZSmu60I=; mda2_beacon=1575744883269; ya_sess_id=3:1575744883.5.1.1568026663610:lXu8Lg:1d.1|924553428.-1.0.1:201533161|894704379.-1.0.1:191832246.2:1397019|30:185633.95409.RVP7okPx9W_5Mm-mpZ96xd48jxs; yandex_login=uid-ledkxpyj; yandexuid=5418682411560849018; my_perpages=%7B%2260%22%3A200%7D; _ym_d=1574701806; _ym_uid=1570718328767985713',\n",
    "    'Accept': 'text/html,application/xhtml+xml,application/xml;q=0.9,*/*;q=0.8',\n",
    "    'Accept-Encoding': 'br, gzip, deflate',\n",
    "    'Accept-Language': 'ru'\n",
    "})"
   ]
  },
  {
   "cell_type": "code",
   "execution_count": 3,
   "metadata": {},
   "outputs": [],
   "source": [
    "def get_movie_info(number: int, title: str,\n",
    "                   kp_rating: float, imbd_rating: float,\n",
    "                   year: int, url: str, utc_time: str) -> Dict[str, Any]:\n",
    "    movie_info = {}\n",
    "    movie_info['number'] = number\n",
    "    movie_info['title'] = title\n",
    "    movie_info['kp_rating'] = kp_rating\n",
    "    movie_info['imbd_rating'] = imbd_rating\n",
    "    movie_info['year'] = year\n",
    "    movie_info['url'] = url\n",
    "    movie_info['_utc_timestamp'] = utc_time\n",
    "    return movie_info"
   ]
  },
  {
   "cell_type": "code",
   "execution_count": 4,
   "metadata": {},
   "outputs": [],
   "source": [
    "def movies_info_generator(max_amount: int = 17,\n",
    "                          delay: Union[int, float] = 0.5) -> Generator [Dict[str, Any], None, None]:\n",
    "    if delay < 0:\n",
    "        raise ValueError('delay must not be negative')\n",
    "    d = 0\n",
    "    for i in range(3):\n",
    "        now_utc = str(datetime.datetime.utcnow().replace(microsecond=0))\n",
    "        resp = session.get('https://www.kinopoisk.ru/top/lists/1/filtr/all/sort/order/page/%s/' % str(i+1)).text\n",
    "        time.sleep(delay)\n",
    "        soup = BeautifulSoup(resp)\n",
    "        for k in range(200):\n",
    "            if d+1 > max_amount:\n",
    "                break\n",
    "            try:\n",
    "                number = soup.find('div', class_ = 'num rangImp', string = d+1) # тэг с номером по сортировке\n",
    "                url_movie_info = number.parent.parent # кусок кода страницы по 1 фильму\n",
    "                movie_number = number.previous_sibling.previous_sibling['id'] # уникальный номер фильма 'film___'\n",
    "                movie_title = url_movie_info.find('a', class_ = 'all').string # название фильма\n",
    "                kp_rating = float(url_movie_info.find('div', attrs ={'data-film-rating': True})['data-film-rating']) # рейтинг кинопоиска\n",
    "                imbd_rating = float(url_movie_info.find('small').previous_element[6:]) # рейтинг imbd\n",
    "                movie_year = re.search('\\d{4}', url_movie_info.find('span', style = True).next_element).group() # год фильма\n",
    "                movie_url = 'https://www.kinopoisk.ru/film/' + movie_number[4:] # ссылка на фильм\n",
    "                movie_info = get_movie_info(d+1, movie_title, kp_rating, imbd_rating, movie_year, movie_url, now_utc)\n",
    "                yield movie_info\n",
    "                d += 1\n",
    "            except AttributeError:\n",
    "                break"
   ]
  },
  {
   "cell_type": "code",
   "execution_count": 5,
   "metadata": {},
   "outputs": [],
   "source": [
    "movie_list = list(movies_info_generator(500))"
   ]
  },
  {
   "cell_type": "code",
   "execution_count": 6,
   "metadata": {},
   "outputs": [],
   "source": [
    "sorted_list = sorted(movie_list, key=lambda imbd: imbd['imbd_rating'], reverse = True)"
   ]
  },
  {
   "cell_type": "code",
   "execution_count": 7,
   "metadata": {},
   "outputs": [
    {
     "name": "stdout",
     "output_type": "stream",
     "text": [
      "Самый популярный год: 2004\n",
      "Минимальный год: 1921\n",
      "Максимальный год: 2019\n"
     ]
    }
   ],
   "source": [
    "years_list = [movie['year'] for movie in movie_list]\n",
    "c = collections.Counter(years_list)\n",
    "print('Самый популярный год: ' + str(c.most_common(1)[0][0]))\n",
    "print('Минимальный год: ' + str(min(c))  + '\\nМаксимальный год: ' + str(max(c)))"
   ]
  },
  {
   "cell_type": "code",
   "execution_count": 8,
   "metadata": {},
   "outputs": [],
   "source": [
    "def dump(film_list: List[Dict[str, Any]], \n",
    "         path: str, \n",
    "         filetype: str = 'csv', \n",
    "         order_by: Union[None, str] = None, # поле словарей, по которому будем сортировать\n",
    "         ascending: bool = True) -> None:\n",
    "    columns = ['number', 'title', 'kp_rating', 'imbd_rating', 'year', 'url', '_utc_timestamp']\n",
    "    if filetype not in ['csv', 'tsv', 'json', 'jsonl']:\n",
    "        raise ValueError('wrong filetype, available filetypes: csv, tsv, json, jsonl')\n",
    "    if order_by not in columns:\n",
    "        raise ValueError('wrong value, may be ordered by: number, title, kp_rating, '\n",
    "                         'imbd_rating, year, url, _utc_timestamp')\n",
    "    if filetype in ['csv', 'tsv']:\n",
    "        sep = ';' if filetype =='csv' else '\\t'\n",
    "        with open('myfile.' + filetype, 'w', encoding='utf-8', newline='') as f:\n",
    "            writer = csv.DictWriter(f, fieldnames=columns, delimiter=sep)\n",
    "            writer.writeheader()\n",
    "            writer.writerows(sorted(film_list, key=lambda ord_by: ord_by [order_by], reverse= not ascending))\n",
    "    elif filetype == 'json':\n",
    "        with open ('my_file.json', 'w') as f:\n",
    "            json.dump(sorted(movie_list, key=lambda ord_by: ord_by [order_by], reverse= not ascending),\n",
    "                      f, indent=4, ensure_ascii=False,)\n",
    "    elif filetype =='jsonl':\n",
    "        with jsonlines.open('my_file.jsonl', 'w') as f:\n",
    "            f.write_all(sorted(movie_list, key=lambda ord_by: ord_by [order_by], reverse= not ascending))\n",
    "    \n",
    "\n",
    "dump(movie_list, '/Users/mak/Desktop/Учеба/3 курс/proga/', filetype='csv', order_by='title', ascending=False)"
   ]
  },
  {
   "cell_type": "code",
   "execution_count": 9,
   "metadata": {},
   "outputs": [],
   "source": [
    "def rand_IP():\n",
    "    IP = '.'.join([str(random.randint(0, 255)) for i in range(4)])\n",
    "    return IP"
   ]
  },
  {
   "cell_type": "code",
   "execution_count": 10,
   "metadata": {},
   "outputs": [
    {
     "name": "stdout",
     "output_type": "stream",
     "text": [
      "Случайный IPv4-адрес: 17.154.214.114\n"
     ]
    }
   ],
   "source": [
    "print('Случайный IPv4-адрес: ' + str(rand_IP()))"
   ]
  },
  {
   "cell_type": "code",
   "execution_count": 11,
   "metadata": {},
   "outputs": [],
   "source": [
    "IP_hundred = [] # список из 100 разных IP-адресов\n",
    "while len(IP_hundred) <100:\n",
    "    IP = '.'.join([str(random.randint(0, 255)) for i in range(4)])\n",
    "    if IP not in IP_hundred:\n",
    "        IP_hundred.append(IP)"
   ]
  },
  {
   "cell_type": "code",
   "execution_count": 12,
   "metadata": {},
   "outputs": [],
   "source": [
    "headers = {\n",
    "    'accept': \"application/json\",\n",
    "    'content-type': \"application/json\"\n",
    "    }\n",
    "IP_hundred_info = [] # информация о 100 рандомных IP-адресах в формате JSON\n",
    "for IP in IP_hundred:\n",
    "    url = 'https://freegeoip.app/json/{}'.format(IP)\n",
    "    response = requests.request(\"GET\", url, headers=headers)\n",
    "    time.sleep(random.uniform(0.5, 1))\n",
    "    IP_info = json.loads(response.text)\n",
    "    IP_hundred_info.append(IP_info)"
   ]
  },
  {
   "cell_type": "code",
   "execution_count": 13,
   "metadata": {},
   "outputs": [
    {
     "name": "stdout",
     "output_type": "stream",
     "text": [
      "Случайный момент времени в 2019 году в виде unix timestamp (по UTC времени): 2019-05-01 05:15:32+00:00\n"
     ]
    }
   ],
   "source": [
    "start_date = datetime.datetime(2019, 1, 1, 0, 0, 0, tzinfo=datetime.timezone.utc)\n",
    "start_date_timestamp = start_date.timestamp()\n",
    "end_date = datetime.datetime(2019, 12, 31, 23, 59, 59, tzinfo=datetime.timezone.utc)\n",
    "end_date_timestamp = end_date.timestamp()\n",
    "year_diff = end_date_timestamp - start_date_timestamp\n",
    "rand_moment_timestamp = start_date_timestamp + random.randint(0, year_diff)\n",
    "rand_moment = datetime.datetime.fromtimestamp(rand_moment_timestamp, tz =datetime.timezone.utc)\n",
    "print('Случайный момент времени в 2019 году в виде unix timestamp (по UTC времени): ' + str(rand_moment))"
   ]
  },
  {
   "cell_type": "code",
   "execution_count": 14,
   "metadata": {},
   "outputs": [
    {
     "name": "stdout",
     "output_type": "stream",
     "text": [
      "Этот случайный момент, приведенный к встретившимся часовым поясам\n",
      "2019-05-01 00:15:32-05:00\tAmerica/Chicago\n",
      "2019-05-01 07:15:32+02:00\tEurope/Berlin\n",
      "2019-05-01 13:15:32+08:00\tAsia/Shanghai\n",
      "2019-05-01 13:15:32+08:00\tAsia/Taipei\n",
      "2019-05-01 07:15:32+02:00\tEurope/Amsterdam\n",
      "2019-05-01 13:15:32+08:00\tAsia/Hong_Kong\n",
      "2019-05-01 07:15:32+02:00\tEurope/Copenhagen\n",
      "2019-05-01 06:15:32+01:00\tAfrica/Casablanca\n",
      "2019-05-01 06:15:32+01:00\tEurope/London\n",
      "2019-05-01 07:15:32+02:00\tAfrica/Johannesburg\n",
      "2019-05-01 14:15:32+09:00\tAsia/Tokyo\n",
      "2019-05-01 08:15:32+03:00\tEurope/Kiev\n",
      "2019-05-01 07:15:32+02:00\tEurope/Madrid\n",
      "2019-05-01 08:15:32+03:00\tEurope/Athens\n",
      "2019-05-01 07:15:32+02:00\tEurope/Paris\n",
      "2019-05-01 08:15:32+03:00\tAfrica/Kampala\n",
      "2019-04-30 22:15:32-07:00\tAmerica/Los_Angeles\n",
      "2019-05-01 07:15:32+02:00\tEurope/Zurich\n",
      "2019-05-01 10:15:32+05:00\tAsia/Yekaterinburg\n",
      "2019-05-01 01:15:32-04:00\tAmerica/Toronto\n",
      "2019-05-01 00:15:32-05:00\tAmerica/Bogota\n",
      "2019-05-01 02:15:32-03:00\tAmerica/Sao_Paulo\n",
      "2019-05-01 07:15:32+02:00\tEurope/Stockholm\n",
      "2019-05-01 09:15:32+04:00\tAsia/Dubai\n",
      "2019-05-01 01:15:32-04:00\tAmerica/New_York\n",
      "2019-05-01 02:15:32-03:00\tAmerica/Montevideo\n",
      "2019-05-01 14:15:32+09:00\tAsia/Seoul\n",
      "2019-05-01 11:15:32+06:00\tAsia/Almaty\n",
      "2019-05-01 00:15:32-05:00\tAmerica/Mexico_City\n"
     ]
    }
   ],
   "source": [
    "unique_timezones = []\n",
    "for IP_info in IP_hundred_info:\n",
    "    if IP_info['time_zone'] != '' and IP_info['time_zone'] not in unique_timezones:\n",
    "        unique_timezones.append(IP_info['time_zone'])\n",
    "print('Этот случайный момент, приведенный к встретившимся часовым поясам')\n",
    "for timezone in unique_timezones:\n",
    "    print(str(rand_moment.astimezone(pytz.timezone(timezone))) + '\\t' + str(timezone))"
   ]
  }
 ],
 "metadata": {
  "kernelspec": {
   "display_name": "Python 3",
   "language": "python",
   "name": "python3"
  },
  "language_info": {
   "codemirror_mode": {
    "name": "ipython",
    "version": 3
   },
   "file_extension": ".py",
   "mimetype": "text/x-python",
   "name": "python",
   "nbconvert_exporter": "python",
   "pygments_lexer": "ipython3",
   "version": "3.7.3"
  }
 },
 "nbformat": 4,
 "nbformat_minor": 2
}
