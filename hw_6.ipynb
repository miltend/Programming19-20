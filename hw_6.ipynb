{
 "cells": [
  {
   "cell_type": "code",
   "execution_count": 1,
   "metadata": {
    "scrolled": true
   },
   "outputs": [],
   "source": [
    "import re\n",
    "import requests\n",
    "import urllib\n",
    "import networkx as nx\n",
    "from bs4 import BeautifulSoup\n",
    "from typing import List\n",
    "from networkx.algorithms.shortest_paths.generic import shortest_path"
   ]
  },
  {
   "cell_type": "code",
   "execution_count": 2,
   "metadata": {},
   "outputs": [],
   "source": [
    "def links_from_text(text):\n",
    "    soup = BeautifulSoup(text)\n",
    "    content = soup.find(\"div\", {\"id\": \"mw-content-text\"})\n",
    "    \n",
    "    links = content.find_all(\"a\")\n",
    "    re_rul = re.compile(\":[А-ЯA-Z]+\")\n",
    "    for link in links:\n",
    "        href = link.get('href', '')\n",
    "        if href.startswith('/wiki'):\n",
    "            wiki_link = urllib.parse.unquote(href).split(\"#\")[0]\n",
    "            if not re.findall(re_rul, wiki_link):\n",
    "                yield wiki_link "
   ]
  },
  {
   "cell_type": "code",
   "execution_count": 3,
   "metadata": {},
   "outputs": [],
   "source": [
    "def queue_func(G, start_url, end_url, queue):\n",
    "    success = []\n",
    "    urls_to_queue = []\n",
    "    edges_to_add = []\n",
    "    uniq_urls = []\n",
    "    for node in queue:\n",
    "        if node in visited_urls:\n",
    "            continue\n",
    "        visited_urls.append(node)\n",
    "        urls = []\n",
    "        for link in links_from_text(requests.get(node).text):\n",
    "            urls.append(\"https://ru.wikipedia.org\" + link)\n",
    "        uniq_urls.extend(set(urls))\n",
    "        print(f'{node} has {len(uniq_urls)} children')\n",
    "        \n",
    "        for url in uniq_urls:\n",
    "            edges_to_add.append((node, url))\n",
    "\n",
    "    print(f'adding {len(uniq_urls)} nodes to graph')\n",
    "    G.add_nodes_from(uniq_urls)\n",
    "    print(f'adding {len(edges_to_add)} edges to graph')\n",
    "    G.add_edges_from(edges_to_add)\n",
    "\n",
    "    for node in uniq_urls:\n",
    "        if node != end_url:\n",
    "            urls_to_queue.append(node)\n",
    "        else:\n",
    "            success = shortest_path(G, start_url, node)\n",
    "            return urls_to_queue, success\n",
    "    return urls_to_queue, success"
   ]
  },
  {
   "cell_type": "code",
   "execution_count": 7,
   "metadata": {},
   "outputs": [],
   "source": [
    "def wiki_walk(start, end):\n",
    "    if start == end:\n",
    "        return \"start_url and end_url must be different\"\n",
    "    G = nx.Graph()\n",
    "    global visited_urls\n",
    "    visited_urls = []\n",
    "    urls_to_q, success = queue_func(G, start, end, [start])\n",
    "    while urls_to_q and not success:\n",
    "        urls_to_q, success = queue_func(G, start, end, urls_to_q)\n",
    "    return success"
   ]
  },
  {
   "cell_type": "code",
   "execution_count": 8,
   "metadata": {},
   "outputs": [],
   "source": [
    "start_url = \"https://ru.wikipedia.org/wiki/Улица_Руту\"\n",
    "end_url = \"https://ru.wikipedia.org/wiki/Языки_мира\""
   ]
  },
  {
   "cell_type": "code",
   "execution_count": 10,
   "metadata": {
    "scrolled": true
   },
   "outputs": [
    {
     "name": "stdout",
     "output_type": "stream",
     "text": [
      "https://ru.wikipedia.org/wiki/Улица_Руту has 9 children\n",
      "adding 9 nodes to graph\n",
      "adding 9 edges to graph\n",
      "https://ru.wikipedia.org/wiki/Пийскопи has 11 children\n",
      "https://ru.wikipedia.org/wiki/Тоом-Кооли has 30 children\n",
      "https://ru.wikipedia.org/wiki/Курьер has 225 children\n",
      "https://ru.wikipedia.org/wiki/Кесклинн has 345 children\n",
      "https://ru.wikipedia.org/wiki/Таллин has 1173 children\n",
      "https://ru.wikipedia.org/wiki/Ваналинн has 1271 children\n",
      "https://ru.wikipedia.org/wiki/Эстонский_язык has 1458 children\n",
      "https://ru.wikipedia.org/wiki/Вышгород_(Таллин) has 1610 children\n",
      "https://ru.wikipedia.org/wiki/Старый_город_(Таллин) has 1783 children\n",
      "adding 1783 nodes to graph\n",
      "adding 7906 edges to graph\n"
     ]
    },
    {
     "data": {
      "text/plain": [
       "['https://ru.wikipedia.org/wiki/Улица_Руту',\n",
       " 'https://ru.wikipedia.org/wiki/Эстонский_язык',\n",
       " 'https://ru.wikipedia.org/wiki/Языки_мира']"
      ]
     },
     "execution_count": 10,
     "metadata": {},
     "output_type": "execute_result"
    }
   ],
   "source": [
    "wiki_walk(start_url, end_url)"
   ]
  },
  {
   "cell_type": "code",
   "execution_count": null,
   "metadata": {},
   "outputs": [],
   "source": []
  }
 ],
 "metadata": {
  "kernelspec": {
   "display_name": "Python 3",
   "language": "python",
   "name": "python3"
  },
  "language_info": {
   "codemirror_mode": {
    "name": "ipython",
    "version": 3
   },
   "file_extension": ".py",
   "mimetype": "text/x-python",
   "name": "python",
   "nbconvert_exporter": "python",
   "pygments_lexer": "ipython3",
   "version": "3.7.3"
  }
 },
 "nbformat": 4,
 "nbformat_minor": 2
}
