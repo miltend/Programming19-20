{
 "cells": [
  {
   "cell_type": "markdown",
   "metadata": {
    "colab_type": "text",
    "id": "krzK_Qr_HJux"
   },
   "source": [
    "# Домашнее задание 7. Градиентный бустинг над решающими деревьями. Регрессия. "
   ]
  },
  {
   "cell_type": "markdown",
   "metadata": {
    "colab_type": "text",
    "id": "dCVjmYY3IG6P"
   },
   "source": [
    "Дедлайн: 07.06.2020 23:59"
   ]
  },
  {
   "cell_type": "markdown",
   "metadata": {
    "colab_type": "text",
    "id": "APrspO2sHaz0"
   },
   "source": [
    "При градиентном бустинге деревья обучаются итеративно. Каждое новое дерево обучается на ошибках предыдущего. \n",
    "Алгоритм обучения градиентного бустинга:\n",
    "+ $T$ - количество деревьев\n",
    "+ $\\gamma$ - размер шага (learning_rate)\n",
    "+ $\\{ (x_i, y_i )\\}_{i=1}^N$ - обучающая выборка   \n",
    "\n",
    "\n",
    "1. Инициализировать массив предсказаний $prediction$ ансамбля, заполнив его нулями. \n",
    "2. For $t$ in $1...T$      \n",
    "  2.1. Посчитать остатки - антиградиент функции ошибки.    \n",
    "  ***Ошибка:*** $mse(y,prediction) = (y - prediction)^2$    \n",
    "  ***Градиент:*** $\\nabla_{prediction} mse(y,prediction) = prediction - y$   \n",
    "  ***Антиградиент:*** $residuals_t = y - prediction$    \n",
    "  2.2. Обучить дерево $b_t$, обучающая выборка:$ \\{ (x_i, residuals_{t, i} ) \\}_{i=1}^N$ \n",
    "  (в качестве целевой переменной выступают остатки)   \n",
    "  2.3. Сделать предсказание обученным деревом:     \n",
    "    $prediction_t = b_t(x)$    \n",
    "  2.4. Прибавить предсказанние текущей модели умноженное на размер шага к вектору предсказаний ансамбля: $prediction \\mathrel{+}= \\gamma*prediction_t$    \n",
    "\n",
    "\n",
    "\n",
    "\n",
    "Итоговый ансамбль имеет вид:  $a(x) = \\sum_{t = 1}^T (\\gamma b_t(x))$\n",
    "\n",
    "       "
   ]
  },
  {
   "cell_type": "markdown",
   "metadata": {
    "colab_type": "text",
    "id": "BsAuacJzaz3K"
   },
   "source": [
    "Ваша задача - заполнить пропуски # YOUR CODE HERE, и выполнить код"
   ]
  },
  {
   "cell_type": "code",
   "execution_count": 1,
   "metadata": {
    "colab": {},
    "colab_type": "code",
    "id": "Di9fAwYHHbNm"
   },
   "outputs": [],
   "source": [
    "import numpy as np\n",
    "import pandas as pd\n",
    "from sklearn.tree import DecisionTreeRegressor"
   ]
  },
  {
   "cell_type": "markdown",
   "metadata": {
    "colab_type": "text",
    "id": "ajXxgshV-eGp"
   },
   "source": [
    "Обязательно фиксируем random state. "
   ]
  },
  {
   "cell_type": "code",
   "execution_count": 2,
   "metadata": {
    "colab": {},
    "colab_type": "code",
    "id": "qT148znn9-ZV"
   },
   "outputs": [],
   "source": [
    "SEED = 22\n",
    "np.random.seed(SEED)"
   ]
  },
  {
   "cell_type": "markdown",
   "metadata": {
    "colab_type": "text",
    "id": "oh3v1hkg-lnZ"
   },
   "source": [
    "Реализуем простой градиентный бустинг, в качестве базового алгоритма используем DecisionTreeRegressor из sklearn. "
   ]
  },
  {
   "cell_type": "code",
   "execution_count": 3,
   "metadata": {
    "colab": {},
    "colab_type": "code",
    "id": "TUZblo1jHxCJ"
   },
   "outputs": [],
   "source": [
    "class SimpleGBRegressor:\n",
    "\n",
    "    def __init__(self, n_estimators=10, max_depth=5, \n",
    "                 min_samples_leaf=1, learning_rate=0.1, \n",
    "                 random_state=None):\n",
    "        self.n_estimators = n_estimators\n",
    "        self.max_depth = max_depth\n",
    "        self.min_samples_leaf = min_samples_leaf\n",
    "        self.learning_rate = learning_rate\n",
    "        self.random_state = random_state\n",
    "        self.trees = []\n",
    "        self.was_fit = False\n",
    "\n",
    "    def fit(self, X, y):\n",
    "        # убедиться что в X и y одинаковое число элементов\n",
    "        assert X.shape[0] == y.shape[0]\n",
    "        \n",
    "        # инициализировать массив с предсказаниями, заполнив нулями\n",
    "        prediction = np.zeros([y.shape[0]])\n",
    "\n",
    "        # обучаем деревья\n",
    "        for i in range(self.n_estimators):\n",
    "            # посчитать остатки\n",
    "            residual = y - prediction\n",
    "\n",
    "            # инициализировать дерево с нужными параметрами\n",
    "            tree = DecisionTreeRegressor(max_depth=self.max_depth,\n",
    "                                         min_samples_leaf = self.min_samples_leaf,\n",
    "                                        random_state=self.random_state)\n",
    "\n",
    "            # обучить дерево\n",
    "            tree.fit(X, residual)\n",
    "\n",
    "            # сделать предсказание текущего дерева\n",
    "            tree_prediction = tree.predict(X)\n",
    "\n",
    "            # сохранить обученное дерево\n",
    "            self.trees.append(tree)\n",
    "\n",
    "            # обновить вектор предсказаний модели\n",
    "            prediction += self.learning_rate * tree_prediction\n",
    "\n",
    "        self.was_fit = True\n",
    "        return self\n",
    "\n",
    "    def predict(self, X):\n",
    "        # если модель не была обучена, печатаем сообщение об этом и вовращаем None\n",
    "        if not self.was_fit:\n",
    "            print(\"Model was not fitted\")\n",
    "            return None\n",
    "\n",
    "        # инициализировать массив с предсказаниями\n",
    "        y_pred = np.zeros(X.shape[0])\n",
    "        \n",
    "        # добавить прогнозы деревьев\n",
    "        for tree in self.trees:\n",
    "            y_pred += self.learning_rate * tree.predict(X)\n",
    "\n",
    "        # убедиться что в X и y одинаковое число элементов\n",
    "        assert X.shape[0] == y_pred.shape[0]\n",
    "        return y_pred"
   ]
  },
  {
   "cell_type": "markdown",
   "metadata": {
    "colab_type": "text",
    "id": "GfwKeNkIHxKx"
   },
   "source": [
    "## Провеярем нашу модель\n"
   ]
  },
  {
   "cell_type": "markdown",
   "metadata": {
    "colab_type": "text",
    "id": "Iid0LpnS-UPD"
   },
   "source": [
    "Загружаем датасет Diabetes. "
   ]
  },
  {
   "cell_type": "code",
   "execution_count": 4,
   "metadata": {
    "colab": {},
    "colab_type": "code",
    "id": "oJzCrOg5cc2E"
   },
   "outputs": [],
   "source": [
    "from sklearn.datasets import load_diabetes\n",
    "from sklearn.metrics import mean_squared_error as MSE\n",
    "from sklearn.model_selection import train_test_split\n",
    "from sklearn.ensemble import GradientBoostingRegressor\n",
    "diabetes = load_diabetes()"
   ]
  },
  {
   "cell_type": "code",
   "execution_count": 5,
   "metadata": {
    "colab": {
     "base_uri": "https://localhost:8080/",
     "height": 663
    },
    "colab_type": "code",
    "id": "Gu0Qa9G1ceR1",
    "outputId": "e90da4f9-dd4b-4ad7-ee92-781e7fc52df0"
   },
   "outputs": [],
   "source": [
    "# print(diabetes['DESCR'])\n",
    "\n",
    "data = pd.DataFrame(diabetes['data'], columns=diabetes['feature_names'])\n",
    "target = diabetes.target"
   ]
  },
  {
   "cell_type": "markdown",
   "metadata": {
    "colab_type": "text",
    "id": "_9MlwH6q_Tdy"
   },
   "source": [
    "Делим на обучающую и тестовую выборку, размер тестовой выборки - 30%. Не забываем про random state."
   ]
  },
  {
   "cell_type": "code",
   "execution_count": 6,
   "metadata": {
    "colab": {},
    "colab_type": "code",
    "id": "oxr8yDxXASJ4"
   },
   "outputs": [],
   "source": [
    "X_train, X_test, y_train, y_test = train_test_split(data, target,test_size = 0.3,\n",
    "                                                    random_state = SEED)"
   ]
  },
  {
   "cell_type": "markdown",
   "metadata": {
    "colab_type": "text",
    "id": "GQyPhNT3d1eD"
   },
   "source": [
    "Обучаем нашу модель и делаем предсказание по тестовой выборке. \n",
    "Параметры модели:\n",
    "+ n_estimators = 100\n",
    "+ random_state - зафиксированный нами ранее\n",
    "+ остальные значения по умолчанию "
   ]
  },
  {
   "cell_type": "code",
   "execution_count": 7,
   "metadata": {
    "colab": {
     "base_uri": "https://localhost:8080/",
     "height": 34
    },
    "colab_type": "code",
    "id": "M2My_fX4YYVl",
    "outputId": "beee7185-db7f-44fc-831e-67f6a7c1bd82"
   },
   "outputs": [
    {
     "data": {
      "text/plain": [
       "<__main__.SimpleGBRegressor at 0x1196d0208>"
      ]
     },
     "execution_count": 7,
     "metadata": {},
     "output_type": "execute_result"
    }
   ],
   "source": [
    "# создаем и обучаем модель\n",
    "my_model = SimpleGBRegressor(n_estimators=100, random_state=SEED)\n",
    "my_model.fit(X_train, y_train)"
   ]
  },
  {
   "cell_type": "code",
   "execution_count": 8,
   "metadata": {
    "colab": {},
    "colab_type": "code",
    "id": "zo0ZJWwXaZJk"
   },
   "outputs": [],
   "source": [
    "# делаем предсказание по тестовой выборке\n",
    "y_pred = my_model.predict(X_test)"
   ]
  },
  {
   "cell_type": "markdown",
   "metadata": {
    "colab_type": "text",
    "id": "GW8x2c8ReGfn"
   },
   "source": [
    "Считаем MSE"
   ]
  },
  {
   "cell_type": "code",
   "execution_count": 9,
   "metadata": {
    "colab": {
     "base_uri": "https://localhost:8080/",
     "height": 34
    },
    "colab_type": "code",
    "id": "QZFzKmpWAjoa",
    "outputId": "bf8f0fca-a0bb-4e29-da8d-821fd2ed62cc"
   },
   "outputs": [
    {
     "name": "stdout",
     "output_type": "stream",
     "text": [
      "3749.674167308474\n"
     ]
    }
   ],
   "source": [
    "# оцениваем качество\n",
    "mse = MSE(y_test, y_pred)\n",
    "print(mse)"
   ]
  },
  {
   "cell_type": "markdown",
   "metadata": {
    "colab_type": "text",
    "id": "uZyLjRckdjhT"
   },
   "source": [
    "Сравниваем с реализацией аналогичного алгоритма из sklearn c **такими же** параметрами (будьте внимательны)"
   ]
  },
  {
   "cell_type": "code",
   "execution_count": 10,
   "metadata": {
    "colab": {
     "base_uri": "https://localhost:8080/",
     "height": 170
    },
    "colab_type": "code",
    "id": "i-Lqpi7pAv43",
    "outputId": "f993f85a-a543-45cb-f5e5-e53def362758"
   },
   "outputs": [
    {
     "data": {
      "text/plain": [
       "GradientBoostingRegressor(alpha=0.9, ccp_alpha=0.0, criterion='friedman_mse',\n",
       "                          init=None, learning_rate=0.1, loss='ls', max_depth=5,\n",
       "                          max_features=None, max_leaf_nodes=None,\n",
       "                          min_impurity_decrease=0.0, min_impurity_split=None,\n",
       "                          min_samples_leaf=1, min_samples_split=2,\n",
       "                          min_weight_fraction_leaf=0.0, n_estimators=100,\n",
       "                          n_iter_no_change=None, presort='deprecated',\n",
       "                          random_state=22, subsample=1.0, tol=0.0001,\n",
       "                          validation_fraction=0.1, verbose=0, warm_start=False)"
      ]
     },
     "execution_count": 10,
     "metadata": {},
     "output_type": "execute_result"
    }
   ],
   "source": [
    "# создаем и обучаем модель\n",
    "sklearn_model = GradientBoostingRegressor(n_estimators=100, max_depth=5,\n",
    "                                           min_samples_leaf=1, learning_rate=0.1,\n",
    "                                           random_state=SEED)\n",
    "sklearn_model.fit(X_train, y_train)"
   ]
  },
  {
   "cell_type": "code",
   "execution_count": 11,
   "metadata": {
    "colab": {},
    "colab_type": "code",
    "id": "qYGvws1TBBE7"
   },
   "outputs": [],
   "source": [
    "# делаем предсказание по тестовой выборке\n",
    "y_pred_sklearn = sklearn_model.predict(X_test)"
   ]
  },
  {
   "cell_type": "code",
   "execution_count": 12,
   "metadata": {
    "colab": {
     "base_uri": "https://localhost:8080/",
     "height": 34
    },
    "colab_type": "code",
    "id": "OTd6ejYaBacq",
    "outputId": "19251863-4de6-4045-b87d-7c64087aa1e1"
   },
   "outputs": [
    {
     "name": "stdout",
     "output_type": "stream",
     "text": [
      "3725.914043073783\n"
     ]
    }
   ],
   "source": [
    "# оцениваем качество\n",
    "mse = MSE(y_test, y_pred_sklearn)\n",
    "print(mse)"
   ]
  },
  {
   "cell_type": "code",
   "execution_count": null,
   "metadata": {},
   "outputs": [],
   "source": []
  }
 ],
 "metadata": {
  "colab": {
   "collapsed_sections": [],
   "name": "hw7.ipynb",
   "provenance": []
  },
  "kernelspec": {
   "display_name": "Python 3",
   "language": "python",
   "name": "python3"
  },
  "language_info": {
   "codemirror_mode": {
    "name": "ipython",
    "version": 3
   },
   "file_extension": ".py",
   "mimetype": "text/x-python",
   "name": "python",
   "nbconvert_exporter": "python",
   "pygments_lexer": "ipython3",
   "version": "3.7.3"
  }
 },
 "nbformat": 4,
 "nbformat_minor": 1
}
