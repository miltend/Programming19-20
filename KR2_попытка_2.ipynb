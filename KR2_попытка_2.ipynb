{
 "cells": [
  {
   "cell_type": "markdown",
   "metadata": {},
   "source": [
    "**Введение** Представим, что вы хотите разработать модель, анализирующую тональность текста. \n",
    "\n",
    "Вы загрузили датасет..."
   ]
  },
  {
   "cell_type": "code",
   "execution_count": 133,
   "metadata": {},
   "outputs": [],
   "source": [
    "import pandas as pd\n",
    "import numpy as np\n",
    "import matplotlib.pyplot as plt\n",
    "from sklearn.model_selection import train_test_split\n",
    "from sklearn.feature_extraction.text import CountVectorizer\n",
    "from sklearn.ensemble import RandomForestClassifier\n",
    "from sklearn.decomposition import PCA\n",
    "from sklearn.model_selection import GridSearchCV\n",
    "from sklearn.metrics import accuracy_score\n",
    "from sklearn.metrics import r2_score"
   ]
  },
  {
   "cell_type": "code",
   "execution_count": 2,
   "metadata": {
    "scrolled": true
   },
   "outputs": [],
   "source": [
    "df = pd.read_csv('https://raw.githubusercontent.com/esolovev/ling2019/master/module2/twi_data.csv', encoding='utf-8', sep=';')"
   ]
  },
  {
   "cell_type": "code",
   "execution_count": 3,
   "metadata": {},
   "outputs": [
    {
     "data": {
      "text/html": [
       "<div>\n",
       "<style scoped>\n",
       "    .dataframe tbody tr th:only-of-type {\n",
       "        vertical-align: middle;\n",
       "    }\n",
       "\n",
       "    .dataframe tbody tr th {\n",
       "        vertical-align: top;\n",
       "    }\n",
       "\n",
       "    .dataframe thead th {\n",
       "        text-align: right;\n",
       "    }\n",
       "</style>\n",
       "<table border=\"1\" class=\"dataframe\">\n",
       "  <thead>\n",
       "    <tr style=\"text-align: right;\">\n",
       "      <th></th>\n",
       "      <th>target</th>\n",
       "      <th>date</th>\n",
       "      <th>text</th>\n",
       "    </tr>\n",
       "  </thead>\n",
       "  <tbody>\n",
       "    <tr>\n",
       "      <th>0</th>\n",
       "      <td>4</td>\n",
       "      <td>Tue Jun 02 02:59:24 PDT 2009</td>\n",
       "      <td>@JackAllTimeLow hope it went good! i couldnt m...</td>\n",
       "    </tr>\n",
       "    <tr>\n",
       "      <th>1</th>\n",
       "      <td>0</td>\n",
       "      <td>Sat Jun 06 00:25:20 PDT 2009</td>\n",
       "      <td>@SDI8732 Idk how to do it!!!</td>\n",
       "    </tr>\n",
       "    <tr>\n",
       "      <th>2</th>\n",
       "      <td>0</td>\n",
       "      <td>Fri Jun 05 12:07:23 PDT 2009</td>\n",
       "      <td>@kmwindmill is here ! woop woop , would be bet...</td>\n",
       "    </tr>\n",
       "    <tr>\n",
       "      <th>3</th>\n",
       "      <td>4</td>\n",
       "      <td>Mon Jun 01 14:55:06 PDT 2009</td>\n",
       "      <td>@Daydreamer1984 He explains the tailer better</td>\n",
       "    </tr>\n",
       "    <tr>\n",
       "      <th>4</th>\n",
       "      <td>0</td>\n",
       "      <td>Sat Jun 20 15:39:44 PDT 2009</td>\n",
       "      <td>still trying to get a pic on this twitter thin...</td>\n",
       "    </tr>\n",
       "  </tbody>\n",
       "</table>\n",
       "</div>"
      ],
      "text/plain": [
       "   target                          date  \\\n",
       "0       4  Tue Jun 02 02:59:24 PDT 2009   \n",
       "1       0  Sat Jun 06 00:25:20 PDT 2009   \n",
       "2       0  Fri Jun 05 12:07:23 PDT 2009   \n",
       "3       4  Mon Jun 01 14:55:06 PDT 2009   \n",
       "4       0  Sat Jun 20 15:39:44 PDT 2009   \n",
       "\n",
       "                                                text  \n",
       "0  @JackAllTimeLow hope it went good! i couldnt m...  \n",
       "1                      @SDI8732 Idk how to do it!!!   \n",
       "2  @kmwindmill is here ! woop woop , would be bet...  \n",
       "3     @Daydreamer1984 He explains the tailer better   \n",
       "4  still trying to get a pic on this twitter thin...  "
      ]
     },
     "execution_count": 3,
     "metadata": {},
     "output_type": "execute_result"
    }
   ],
   "source": [
    "df.head()"
   ]
  },
  {
   "cell_type": "code",
   "execution_count": 4,
   "metadata": {},
   "outputs": [],
   "source": [
    "y = df['target'].replace(4, 1)\n",
    "\n",
    "del df['date']\n",
    "del df['target']"
   ]
  },
  {
   "cell_type": "markdown",
   "metadata": {},
   "source": [
    "... выделили из него какие-то признаки ..."
   ]
  },
  {
   "cell_type": "code",
   "execution_count": 7,
   "metadata": {},
   "outputs": [
    {
     "name": "stdout",
     "output_type": "stream",
     "text": [
      "(40000, 16737)\n"
     ]
    }
   ],
   "source": [
    "transformed_texts = CountVectorizer(stop_words='english',\n",
    "                                    max_df=0.95,\n",
    "                                    min_df=3,\n",
    "                                    ngram_range=(1,3),\n",
    "                                    analyzer='word',).\\\n",
    "                    fit_transform(df.text.values).\\\n",
    "                    toarray() #конвертируем из разреженной матрицы в обычную, потому что PCA в sklearn не поддерживает sparse матрицы\n",
    "\n",
    "print(transformed_texts.shape)"
   ]
  },
  {
   "cell_type": "markdown",
   "metadata": {},
   "source": [
    "... и разделили выборку на обучающую и тестовую."
   ]
  },
  {
   "cell_type": "code",
   "execution_count": 8,
   "metadata": {},
   "outputs": [],
   "source": [
    "X_train, X_test, y_train, y_test = train_test_split(transformed_texts, y, train_size=0.5, stratify=y, random_state=123)"
   ]
  },
  {
   "cell_type": "markdown",
   "metadata": {},
   "source": [
    "А теперь посмотрим, как долго будет обучаться, например, случайный лес."
   ]
  },
  {
   "cell_type": "code",
   "execution_count": 11,
   "metadata": {
    "scrolled": true
   },
   "outputs": [
    {
     "name": "stdout",
     "output_type": "stream",
     "text": [
      "CPU times: user 16min 41s, sys: 10.8 s, total: 16min 52s\n",
      "Wall time: 3min 43s\n"
     ]
    },
    {
     "data": {
      "text/plain": [
       "RandomForestClassifier(bootstrap=True, ccp_alpha=0.0, class_weight=None,\n",
       "                       criterion='gini', max_depth=None, max_features='auto',\n",
       "                       max_leaf_nodes=None, max_samples=None,\n",
       "                       min_impurity_decrease=0.0, min_impurity_split=None,\n",
       "                       min_samples_leaf=1, min_samples_split=2,\n",
       "                       min_weight_fraction_leaf=0.0, n_estimators=100,\n",
       "                       n_jobs=-1, oob_score=False, random_state=None, verbose=0,\n",
       "                       warm_start=False)"
      ]
     },
     "execution_count": 11,
     "metadata": {},
     "output_type": "execute_result"
    }
   ],
   "source": [
    "%%time\n",
    "\n",
    "RandomForestClassifier(n_estimators=100, n_jobs=-1).fit(X_train, y_train)"
   ]
  },
  {
   "cell_type": "markdown",
   "metadata": {},
   "source": [
    "4 минуты - это слишком долго (причём это время обучения на 8-ядерном процессоре). \n",
    "\n",
    "А если уменьшить размерность?"
   ]
  },
  {
   "cell_type": "code",
   "execution_count": 9,
   "metadata": {
    "scrolled": true
   },
   "outputs": [
    {
     "name": "stdout",
     "output_type": "stream",
     "text": [
      "CPU times: user 1min, sys: 6.87 s, total: 1min 7s\n",
      "Wall time: 44.3 s\n"
     ]
    }
   ],
   "source": [
    "%%time\n",
    "\n",
    "pca = PCA(n_components=150)\n",
    "reducted_train = pca.fit_transform(X_train)"
   ]
  },
  {
   "cell_type": "code",
   "execution_count": 10,
   "metadata": {},
   "outputs": [
    {
     "data": {
      "text/plain": [
       "(20000, 150)"
      ]
     },
     "execution_count": 10,
     "metadata": {},
     "output_type": "execute_result"
    }
   ],
   "source": [
    "reducted_train.shape"
   ]
  },
  {
   "cell_type": "code",
   "execution_count": 11,
   "metadata": {},
   "outputs": [
    {
     "name": "stdout",
     "output_type": "stream",
     "text": [
      "CPU times: user 31.7 s, sys: 181 ms, total: 31.8 s\n",
      "Wall time: 9.02 s\n"
     ]
    },
    {
     "data": {
      "text/plain": [
       "RandomForestClassifier(bootstrap=True, ccp_alpha=0.0, class_weight=None,\n",
       "                       criterion='gini', max_depth=None, max_features='auto',\n",
       "                       max_leaf_nodes=None, max_samples=None,\n",
       "                       min_impurity_decrease=0.0, min_impurity_split=None,\n",
       "                       min_samples_leaf=1, min_samples_split=2,\n",
       "                       min_weight_fraction_leaf=0.0, n_estimators=100,\n",
       "                       n_jobs=-1, oob_score=False, random_state=None, verbose=0,\n",
       "                       warm_start=False)"
      ]
     },
     "execution_count": 11,
     "metadata": {},
     "output_type": "execute_result"
    }
   ],
   "source": [
    "%%time\n",
    "\n",
    "RandomForestClassifier(n_estimators=100, n_jobs=-1).fit(reducted_train, y_train)"
   ]
  },
  {
   "cell_type": "markdown",
   "metadata": {},
   "source": [
    "Уже лучше (если мы один раз уменьшаем размерность, а затем обучаем много разных моделек на получившемся датасете, среднее время на обучение получается сильно лучше даже с учетом того, что мы потратили минуту на PCA). А вот посмотреть, насколько ухудшается или улучшается качество при использовании PCA - ваша задача.\n",
    "\n",
    "*Совет*: можете сначала написать код для меньшего количества параметров, решающее все задание, отладить его, а уже потом запустить его на всех параметрах. Так вы сэкономите время, затрачиваемое на обучение.\n",
    "\n",
    "**Задание 1**\n",
    "Возьмите 5 различных значений для числа главных компонент в PCA. Для каждого из данных значений параметров решающего леса выберите лучшую модель с помощью GridSearchCV на 3 фолдах (**важно**: чтобы графики из второго задания были корректны, вам нужно, чтобы разбиение на фолды было одинаковое для всех значений числа компонент). Используйте accuracy как метрику качества.\n",
    "\n",
    "* max_depth: 3, 6, 9, 12, 50\n",
    "* n_estimators: 25, 50, 75, 100\n",
    "\n",
    "\n",
    "**Задание 2**\n",
    "Отобразите на одной картинке два графика (по оси X отложено число главных компонент в PCA):\n",
    "\n",
    "1) Качество лучшей модели на тестовой выборке\n",
    "\n",
    "2) Среднее качество на 3 фолдах при подборе параметров (для лучшей модели)\n",
    "\n",
    "3) Общая доля объяснённой дисперсии для выбранного числа компонент (для лучшей модели)."
   ]
  },
  {
   "cell_type": "markdown",
   "metadata": {},
   "source": [
    "## Задание 1"
   ]
  },
  {
   "cell_type": "code",
   "execution_count": 152,
   "metadata": {},
   "outputs": [],
   "source": [
    "numb_components = [2, 3, 4, 5, 6]"
   ]
  },
  {
   "cell_type": "code",
   "execution_count": 153,
   "metadata": {
    "scrolled": true
   },
   "outputs": [],
   "source": [
    "rfc = RandomForestClassifier(random_state=3)\n",
    "max_depth = [3, 6, 9, 12, 50]\n",
    "n_estimators = [25, 50, 75, 100]\n",
    "params = {\"n_estimators\" : n_estimators, \"max_depth\": max_depth}"
   ]
  },
  {
   "cell_type": "code",
   "execution_count": 154,
   "metadata": {},
   "outputs": [],
   "source": [
    "cv_rfc = GridSearchCV(estimator=rfc, param_grid=params, cv=3, scoring=\"accuracy\")"
   ]
  },
  {
   "cell_type": "code",
   "execution_count": 167,
   "metadata": {},
   "outputs": [],
   "source": [
    "accuracies = []\n",
    "k_fold_mean_scores = []\n",
    "cum_expl_var = []\n",
    "\n",
    "for n_comp in numb_components:\n",
    "    pca = PCA(n_components=n_comp)\n",
    "    reducted_train = pca.fit_transform(X_train)\n",
    "    reduced_test = pca.fit_transform(X_test)\n",
    "    \n",
    "    cv_rfc.fit(reducted_train, y_train)\n",
    "    \n",
    "    best_scor = max(cv_rfc.cv_results_['mean_test_score'])\n",
    "    k_fold_mean_scores.append(best_scor)\n",
    "    \n",
    "    cumulative=np.cumsum(pca.explained_variance_ratio_)\n",
    "    cum_expl_var.append(cumulative[-1])\n",
    "    \n",
    "    best_param = cv_rfc.best_params_\n",
    "    rfc_best = RandomForestClassifier(random_state=5, n_estimators=best_param[\"n_estimators\"],\n",
    "                                  max_depth=best_param[\"max_depth\"])\n",
    "    rfc_best.fit(reducted_train, y_train)\n",
    "    y_pred = rfc_best.predict(reduced_test)\n",
    "    accuracies.append(accuracy_score(y_test, y_pred))"
   ]
  },
  {
   "cell_type": "markdown",
   "metadata": {},
   "source": [
    "Про общую долю об. дисперсии было частично взято из https://your-scorpion.ru/log-loss-pca/"
   ]
  },
  {
   "cell_type": "markdown",
   "metadata": {},
   "source": [
    "## Задание 2"
   ]
  },
  {
   "cell_type": "code",
   "execution_count": 172,
   "metadata": {},
   "outputs": [
    {
     "data": {
      "text/plain": [
       "[<matplotlib.lines.Line2D at 0x3a258d080>]"
      ]
     },
     "execution_count": 172,
     "metadata": {},
     "output_type": "execute_result"
    },
    {
     "data": {
      "image/png": "[encoded data removed]",
      "text/plain": [
       "<Figure size 792x1080 with 3 Axes>"
      ]
     },
     "metadata": {
      "needs_background": "light"
     },
     "output_type": "display_data"
    }
   ],
   "source": [
    "fig, axs = plt.subplots(3, figsize=(11, 15))\n",
    "\n",
    "axs[0].scatter(numb_components, accuracies, color=\"red\")\n",
    "axs[0].set_title('Качество лучшей модели на тестовой выборке')\n",
    "axs[0].set_xlabel('Число компонент')\n",
    "axs[0].set_ylabel('Качество')\n",
    "axs[0].plot(numb_components, accuracies)\n",
    "\n",
    "axs[1].scatter(numb_components, k_fold_mean_scores, color=\"red\")\n",
    "axs[1].set_title('Среднее качество на 3 фолдах при подборе параметров')\n",
    "axs[1].set_xlabel('Число компонент')\n",
    "axs[1].set_ylabel('Среднее качество')\n",
    "axs[1].plot(numb_components, k_fold_mean_scores)\n",
    "\n",
    "axs[2].scatter(numb_components, cum_expl_var, color=\"red\")\n",
    "axs[2].set_title('Общая доля объяснённой дисперсии')\n",
    "axs[2].set_xlabel('Число компонент')\n",
    "axs[2].set_ylabel('Общ. доля объясн. дисперсии')\n",
    "axs[2].plot(numb_components, cum_expl_var)"
   ]
  },
  {
   "cell_type": "code",
   "execution_count": null,
   "metadata": {},
   "outputs": [],
   "source": []
  }
 ],
 "metadata": {
  "kernelspec": {
   "display_name": "Python 3",
   "language": "python",
   "name": "python3"
  },
  "language_info": {
   "codemirror_mode": {
    "name": "ipython",
    "version": 3
   },
   "file_extension": ".py",
   "mimetype": "text/x-python",
   "name": "python",
   "nbconvert_exporter": "python",
   "pygments_lexer": "ipython3",
   "version": "3.7.3"
  }
 },
 "nbformat": 4,
 "nbformat_minor": 2
}
